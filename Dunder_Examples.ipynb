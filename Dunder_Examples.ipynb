{
 "cells": [
  {
   "cell_type": "markdown",
   "id": "a74bdcc9",
   "metadata": {},
   "source": [
    "# Dunder Methods Examples"
   ]
  },
  {
   "cell_type": "code",
   "execution_count": 28,
   "id": "39c4b4a6",
   "metadata": {},
   "outputs": [],
   "source": [
    "class Employee:\n",
    "    def __new__(cls):\n",
    "        print (\"__new__ dunder method is called\")\n",
    "        inst = object.__new__(cls)\n",
    "        return inst"
   ]
  },
  {
   "cell_type": "code",
   "execution_count": 29,
   "id": "007fd8a0",
   "metadata": {},
   "outputs": [
    {
     "name": "stdout",
     "output_type": "stream",
     "text": [
      "__new__ dunder method is called\n"
     ]
    }
   ],
   "source": [
    " emp = Employee()"
   ]
  },
  {
   "cell_type": "code",
   "execution_count": 21,
   "id": "5bfd9e57",
   "metadata": {},
   "outputs": [],
   "source": [
    "class dress():             #class any_name()\n",
    "    def __init__(self,price,color): #initilization methods def_init_ constant         \n",
    "        self.color = color         #place holder put object and A few of them must remain empty for any object\n",
    "        self.price = price\n",
    "    def what_color(self):\n",
    "        print('my color is:'+ self.color)\n"
   ]
  },
  {
   "cell_type": "code",
   "execution_count": 22,
   "id": "8fc8942d",
   "metadata": {},
   "outputs": [
    {
     "name": "stdout",
     "output_type": "stream",
     "text": [
      "my color is:yellow\n"
     ]
    },
    {
     "data": {
      "text/plain": [
       "'yellow'"
      ]
     },
     "execution_count": 22,
     "metadata": {},
     "output_type": "execute_result"
    }
   ],
   "source": [
    "fluffy_dress = dress(1000, 'yellow')\n",
    "\n",
    "fluffy_dress.what_color()\n",
    "fluffy_dress.color"
   ]
  },
  {
   "cell_type": "code",
   "execution_count": 35,
   "id": "3de80d97",
   "metadata": {},
   "outputs": [
    {
     "name": "stdout",
     "output_type": "stream",
     "text": [
      "15\n"
     ]
    }
   ],
   "source": [
    "class Data:\n",
    "    def __init__(self, value):\n",
    "        self.value = value\n",
    "        \n",
    "    def __add__(self, other):\n",
    "        return Data(self.value + other.value)\n",
    "a = Data(10)\n",
    "b = Data(5)\n",
    "c = a + b\n",
    "print(c.value)"
   ]
  },
  {
   "cell_type": "code",
   "execution_count": 36,
   "id": "425be125",
   "metadata": {},
   "outputs": [
    {
     "name": "stdout",
     "output_type": "stream",
     "text": [
      "5\n"
     ]
    }
   ],
   "source": [
    "class Data:\n",
    "    def __init__(self, value):\n",
    "        self.value = value\n",
    "        \n",
    "    def __sub__(self, other):\n",
    "        return Data(self.value - other.value)\n",
    "a = Data(10)\n",
    "b = Data(5)\n",
    "c = a - b\n",
    "print(c.value)"
   ]
  },
  {
   "cell_type": "code",
   "execution_count": 37,
   "id": "6608f9ca",
   "metadata": {},
   "outputs": [
    {
     "name": "stdout",
     "output_type": "stream",
     "text": [
      "50\n"
     ]
    }
   ],
   "source": [
    "class Data:\n",
    "    def __init__(self, value):\n",
    "        self.value = value\n",
    "        \n",
    "    def __mul__(self, other):\n",
    "        return Data(self.value * other.value)\n",
    "a = Data(10)\n",
    "b = Data(5)\n",
    "c = a * b\n",
    "print(c.value)"
   ]
  }
 ],
 "metadata": {
  "kernelspec": {
   "display_name": "Python 3 (ipykernel)",
   "language": "python",
   "name": "python3"
  },
  "language_info": {
   "codemirror_mode": {
    "name": "ipython",
    "version": 3
   },
   "file_extension": ".py",
   "mimetype": "text/x-python",
   "name": "python",
   "nbconvert_exporter": "python",
   "pygments_lexer": "ipython3",
   "version": "3.9.7"
  }
 },
 "nbformat": 4,
 "nbformat_minor": 5
}
