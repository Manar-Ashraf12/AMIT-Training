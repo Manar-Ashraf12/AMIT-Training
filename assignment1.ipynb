{
 "cells": [
  {
   "cell_type": "markdown",
   "id": "fb5aa3da",
   "metadata": {},
   "source": [
    "  # Assignment1"
   ]
  },
  {
   "cell_type": "code",
   "execution_count": 18,
   "id": "f110b74b",
   "metadata": {},
   "outputs": [
    {
     "name": "stdout",
     "output_type": "stream",
     "text": [
      "Enter two values: 2 4\n",
      "Number of x, y = :  ('2', '4')\n",
      "Number of x is:  2\n",
      "Number of y is:  4\n"
     ]
    }
   ],
   "source": [
    "#Using split() method : This function helps in getting multiple inputs from users\n",
    "x, y = input(\"Enter two values: \").split()   #taking two inputs at a time          \n",
    "print(\"Number of x, y = : \", (x, y))         #get up Number of x,y = : and put the two input( , )        \n",
    "print(\"Number of x is: \", x)                 #put first input in x\n",
    "print(\"Number of y is: \", y)                 #put secound input in y\n",
    "\n"
   ]
  }
 ],
 "metadata": {
  "kernelspec": {
   "display_name": "Python 3 (ipykernel)",
   "language": "python",
   "name": "python3"
  },
  "language_info": {
   "codemirror_mode": {
    "name": "ipython",
    "version": 3
   },
   "file_extension": ".py",
   "mimetype": "text/x-python",
   "name": "python",
   "nbconvert_exporter": "python",
   "pygments_lexer": "ipython3",
   "version": "3.9.7"
  }
 },
 "nbformat": 4,
 "nbformat_minor": 5
}
