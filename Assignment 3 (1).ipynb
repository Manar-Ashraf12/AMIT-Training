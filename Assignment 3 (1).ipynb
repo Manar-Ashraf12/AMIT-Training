{
 "cells": [
  {
   "cell_type": "markdown",
   "metadata": {},
   "source": [
    "# Assignment 3"
   ]
  },
  {
   "cell_type": "markdown",
   "metadata": {},
   "source": [
    "### Write a function to count the number 4 in a given list."
   ]
  },
  {
   "cell_type": "code",
   "execution_count": 18,
   "metadata": {},
   "outputs": [],
   "source": [
    "list1=[1,4,2,4,3,4]    #given list \n",
    "def counter(list1):    #function : name function is counter - sequence is list1\n",
    "    count=0            \n",
    "    for x in list1:    #loop  for x in list1\n",
    "        if x==4:       # if condition is :  if x==4 add one to count \n",
    "            count=count+1\n",
    "    return count       #return numbers of 4 in list"
   ]
  },
  {
   "cell_type": "code",
   "execution_count": 19,
   "metadata": {},
   "outputs": [
    {
     "data": {
      "text/plain": [
       "3"
      ]
     },
     "execution_count": 19,
     "metadata": {},
     "output_type": "execute_result"
    }
   ],
   "source": [
    "counter(list1)"
   ]
  },
  {
   "cell_type": "markdown",
   "metadata": {},
   "source": [
    "### write a  function to check whether a number is divisible by another number."
   ]
  },
  {
   "cell_type": "code",
   "execution_count": 44,
   "metadata": {},
   "outputs": [
    {
     "name": "stdout",
     "output_type": "stream",
     "text": [
      "Enter first number: 4\n",
      "Enter second number: 2\n",
      "numbers are divisible\n"
     ]
    }
   ],
   "source": [
    "def check_divisible(num1,num2): #function name is check_divisible - sequence is num1,num2\n",
    "    return num1 % num2              \n",
    "num1 = int(input('Enter first number: '))  #integer input\n",
    "num2 = int(input('Enter second number: ')) #integer input\n",
    "if num1 % num2 == 0 :                      #check num1 is divisible by num2.\n",
    "    print('numbers are divisible')          #if condition is true print number is divisible\n",
    "else:                                      #else print not divisible\n",
    "    print('numbers are not divisible')\n"
   ]
  },
  {
   "cell_type": "markdown",
   "metadata": {},
   "source": [
    "### write a function to find the maximum and minimum numbers from a sequence of numbers."
   ]
  },
  {
   "cell_type": "code",
   "execution_count": 62,
   "metadata": {},
   "outputs": [],
   "source": [
    "numbers=[1,2,3,4,5]          #given list \n",
    "def check(numbers):          #function : name function is check- sequence is numbers   \n",
    "    \n",
    "    maximum=numbers[0]       \n",
    "    minimum=numbers[0]\n",
    "    \n",
    "    for x in numbers :       #loop  for x in numbers\n",
    "        if x>maximum :       # if condition is :  if x>maximum put in x maximum numbers\n",
    "            maximum=x        \n",
    "          \n",
    "        elif x<minimum :     # if condition is :  if x<minimum put in x minimum numbers\n",
    "            minimum=x\n",
    "            \n",
    "    print('maximum number is {}'.format(maximum)) \n",
    "    print('minimum number is {}'.format(minimum))    \n",
    "    return maximum,minimum\n",
    "    "
   ]
  },
  {
   "cell_type": "code",
   "execution_count": 63,
   "metadata": {},
   "outputs": [
    {
     "name": "stdout",
     "output_type": "stream",
     "text": [
      "maximum number is 5\n",
      "minimum number is 1\n"
     ]
    },
    {
     "data": {
      "text/plain": [
       "(5, 1)"
      ]
     },
     "execution_count": 63,
     "metadata": {},
     "output_type": "execute_result"
    }
   ],
   "source": [
    "check(numbers)"
   ]
  },
  {
   "cell_type": "markdown",
   "metadata": {},
   "source": [
    "### Write a Python function that takes two lists and returns True if they have at least one common member."
   ]
  },
  {
   "cell_type": "code",
   "execution_count": 87,
   "metadata": {},
   "outputs": [],
   "source": [
    "list1=[2,4,6]                            #list given\n",
    "list2=[3,6,9]\n",
    "def check(list1,list2):                  #function : name function is check- sequence is list1,list2\n",
    "    \n",
    "    output = False\n",
    "    \n",
    "    for x in list1:                      #for loop of x in list1\n",
    "        \n",
    "        for y in list2:                  #for loop of y in list2\n",
    "            \n",
    "            if x==y :                    #if x and y they have at least one common member.\n",
    "                output=True              \n",
    "                print('the output is true {}'.format(x)) \n",
    "                return True\n",
    "          "
   ]
  },
  {
   "cell_type": "code",
   "execution_count": 88,
   "metadata": {},
   "outputs": [
    {
     "name": "stdout",
     "output_type": "stream",
     "text": [
      "the output is true 6\n"
     ]
    },
    {
     "data": {
      "text/plain": [
       "True"
      ]
     },
     "execution_count": 88,
     "metadata": {},
     "output_type": "execute_result"
    }
   ],
   "source": [
    "check(list1,list2)"
   ]
  },
  {
   "cell_type": "markdown",
   "metadata": {},
   "source": [
    "### Write a Python function to calculate the factorial of a number (a non-negative integer). The function accepts the number from the user"
   ]
  },
  {
   "cell_type": "code",
   "execution_count": 2,
   "metadata": {},
   "outputs": [],
   "source": [
    "def factorial(x):      #function : name function is factorial- sequence is x\n",
    "    if x==1:           #if condition is x==1 supply one\n",
    "        return 1\n",
    "    else:              #else return x * factorial(x-1) example x=4... 4*3*2*1=24\n",
    "        return x * factorial(x-1)"
   ]
  },
  {
   "cell_type": "code",
   "execution_count": 3,
   "metadata": {},
   "outputs": [
    {
     "data": {
      "text/plain": [
       "24"
      ]
     },
     "execution_count": 3,
     "metadata": {},
     "output_type": "execute_result"
    }
   ],
   "source": [
    "factorial(4)"
   ]
  },
  {
   "cell_type": "markdown",
   "metadata": {},
   "source": [
    "### Write a Python function to check whether a number is in a given range.\n",
    "\n",
    "### The range is from 3 to 11\n"
   ]
  },
  {
   "cell_type": "code",
   "execution_count": 15,
   "metadata": {},
   "outputs": [
    {
     "name": "stdout",
     "output_type": "stream",
     "text": [
      "Enter a number: 9\n",
      "number in range\n"
     ]
    }
   ],
   "source": [
    "def check():         #function name is check - sequence is num1\n",
    "    return num1\n",
    "\n",
    "num1 = int(input('Enter a number: '))  #integer input\n",
    "\n",
    "if num1 in range(3,12) :                      #check num1 is in range 3 to 12 .\n",
    "    print('number in range')          #if condition is true print number in range\n",
    "else:                                      #else print number not in range\n",
    "    print('number not in range')\n",
    "\n"
   ]
  },
  {
   "cell_type": "markdown",
   "metadata": {},
   "source": [
    "### Write a  program to create the multiplication table (from 1 to 10) of a number."
   ]
  },
  {
   "cell_type": "code",
   "execution_count": 39,
   "metadata": {},
   "outputs": [
    {
     "name": "stdout",
     "output_type": "stream",
     "text": [
      "Enter a number: 2\n",
      "2 x 1 = 2\n",
      "2 x 2 = 4\n",
      "2 x 3 = 6\n",
      "2 x 4 = 8\n",
      "2 x 5 = 10\n",
      "2 x 6 = 12\n",
      "2 x 7 = 14\n",
      "2 x 8 = 16\n",
      "2 x 9 = 18\n",
      "2 x 10 = 20\n"
     ]
    }
   ],
   "source": [
    "number = int(input('Enter a number: '))  #integer input\n",
    "\n",
    "for x in range(1,11) :                      #for x is in range 1 to 11 .\n",
    "    \n",
    "    print(number,'x',x,'=',number * x)           \n"
   ]
  },
  {
   "cell_type": "markdown",
   "metadata": {},
   "source": [
    "#### LESSER OF TWO EVENS: Write a function that returns the lesser of two given numbers *if* both numbers are even, but returns the greater if one or both numbers are odd\n",
    "    lesser_of_two_evens(2,4) --> 2\n",
    "    lesser_of_two_evens(2,5) --> 5"
   ]
  },
  {
   "cell_type": "code",
   "execution_count": 53,
   "metadata": {},
   "outputs": [
    {
     "name": "stdout",
     "output_type": "stream",
     "text": [
      "Enter first number: 2\n",
      "Enter second number: 4\n"
     ]
    }
   ],
   "source": [
    "x = int(input('Enter first number: '))  #integer input\n",
    "y = int(input('Enter second number: ')) #integer input  \n",
    "def check (x,y):\n",
    "    if (x % 2 == 0 and y % 2 == 0):\n",
    "        \n",
    "        if x>y :\n",
    "            print('both numbers are even, the lesser of two given numbers is :',y)\n",
    "        else:\n",
    "            print('both numbers are even, the lesser of two given numbers is :',x)\n",
    "            \n",
    "    elif(x%2 !=0 or y%2 !=0):\n",
    "        \n",
    "        if x>y :\n",
    "            print('one or both numbers are odd,the greater of two given numbers is:',x)\n",
    "        else:\n",
    "            print('one or both numbers are odd,the greater of two given numbers is:',y)  \n",
    "            return x,y"
   ]
  },
  {
   "cell_type": "code",
   "execution_count": 54,
   "metadata": {},
   "outputs": [
    {
     "name": "stdout",
     "output_type": "stream",
     "text": [
      "both numbers are even, the lesser of two given numbers is : 2\n"
     ]
    }
   ],
   "source": [
    "check (x,y)"
   ]
  }
 ],
 "metadata": {
  "kernelspec": {
   "display_name": "Python 3 (ipykernel)",
   "language": "python",
   "name": "python3"
  },
  "language_info": {
   "codemirror_mode": {
    "name": "ipython",
    "version": 3
   },
   "file_extension": ".py",
   "mimetype": "text/x-python",
   "name": "python",
   "nbconvert_exporter": "python",
   "pygments_lexer": "ipython3",
   "version": "3.9.7"
  }
 },
 "nbformat": 4,
 "nbformat_minor": 2
}
