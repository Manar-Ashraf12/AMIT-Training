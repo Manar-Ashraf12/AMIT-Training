{
 "cells": [
  {
   "cell_type": "markdown",
   "id": "b03698a7",
   "metadata": {},
   "source": [
    "# Python * args and ** kwargs:"
   ]
  },
  {
   "cell_type": "code",
   "execution_count": 2,
   "id": "6a814c19",
   "metadata": {},
   "outputs": [
    {
     "name": "stdout",
     "output_type": "stream",
     "text": [
      "Sum: 6\n",
      "Sum: 22\n",
      "Sum: 17\n"
     ]
    }
   ],
   "source": [
    "def adder(*num):\n",
    "    sum = 0\n",
    "    \n",
    "    for n in num:\n",
    "        sum = sum + n\n",
    "\n",
    "    print(\"Sum:\",sum)\n",
    "\n",
    "adder(2,4)\n",
    "adder(3,4,6,9)\n",
    "adder(1,2,3,5,6)"
   ]
  },
  {
   "cell_type": "code",
   "execution_count": 3,
   "id": "8511803a",
   "metadata": {},
   "outputs": [
    {
     "name": "stdout",
     "output_type": "stream",
     "text": [
      "\n",
      "Data type of argument: <class 'dict'>\n",
      "Firstname is walaa\n",
      "Lastname is Ashraf\n",
      "Age is 27\n",
      "Phone is 123456789\n",
      "\n",
      "Data type of argument: <class 'dict'>\n",
      "Firstname is manar\n",
      "Lastname is Ashraf\n",
      "Email is manarashraf2412@.com\n",
      "Country is egypt\n",
      "Age is 22\n",
      "Phone is 9876543210\n"
     ]
    }
   ],
   "source": [
    "def intro(**data):\n",
    "    print(\"\\nData type of argument:\",type(data))\n",
    "\n",
    "    for key, value in data.items():\n",
    "        print(\"{} is {}\".format(key,value))\n",
    "\n",
    "intro(Firstname=\"walaa\", Lastname=\"Ashraf\", Age=27, Phone=123456789)\n",
    "intro(Firstname=\"manar\", Lastname=\"Ashraf\", Email=\"manarashraf2412@.com\", Country=\"egypt\", Age=22, Phone=9876543210)"
   ]
  }
 ],
 "metadata": {
  "kernelspec": {
   "display_name": "Python 3 (ipykernel)",
   "language": "python",
   "name": "python3"
  },
  "language_info": {
   "codemirror_mode": {
    "name": "ipython",
    "version": 3
   },
   "file_extension": ".py",
   "mimetype": "text/x-python",
   "name": "python",
   "nbconvert_exporter": "python",
   "pygments_lexer": "ipython3",
   "version": "3.9.7"
  }
 },
 "nbformat": 4,
 "nbformat_minor": 5
}
