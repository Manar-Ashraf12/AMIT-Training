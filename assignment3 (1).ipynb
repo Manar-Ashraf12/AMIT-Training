{
 "cells": [
  {
   "cell_type": "markdown",
   "id": "7c16b599",
   "metadata": {},
   "source": [
    "# Assignment 3"
   ]
  },
  {
   "cell_type": "code",
   "execution_count": 3,
   "id": "7ec2e1a2",
   "metadata": {},
   "outputs": [],
   "source": [
    "def data():\n",
    "    first=input('first name ')\n",
    "    last=input('last name ')\n",
    "    gender=input('gender name ')\n",
    "    ID=input('ID')\n",
    "    \n",
    "    if len(ID)>3:\n",
    "        print('wrong')\n",
    "    else:\n",
    "        f = open('C:/Users/MASTER/Downloads/manar.txt','w')\n",
    "        f.write(first+'\\n')\n",
    "        f.write(last+'\\n')\n",
    "        f.write(gender+'\\n')\n",
    "        f.write(ID+'\\n')\n",
    "    print(f)"
   ]
  },
  {
   "cell_type": "code",
   "execution_count": 4,
   "id": "2b5db60a",
   "metadata": {},
   "outputs": [
    {
     "name": "stdout",
     "output_type": "stream",
     "text": [
      "first name manar\n",
      "last name ashraf\n",
      "gender name female\n",
      "ID224\n",
      "<_io.TextIOWrapper name='C:/Users/MASTER/Downloads/manar.txt' mode='w' encoding='cp1252'>\n"
     ]
    }
   ],
   "source": [
    "data()"
   ]
  },
  {
   "cell_type": "code",
   "execution_count": 8,
   "id": "72949e44",
   "metadata": {},
   "outputs": [
    {
     "data": {
      "text/plain": [
       "'manar\\nashraf\\nfemale\\n224\\n'"
      ]
     },
     "execution_count": 8,
     "metadata": {},
     "output_type": "execute_result"
    }
   ],
   "source": [
    "f = open('C:/Users/MASTER/Downloads/manar.txt','r')\n",
    "f.read()"
   ]
  },
  {
   "cell_type": "code",
   "execution_count": null,
   "id": "4c1a740b",
   "metadata": {},
   "outputs": [],
   "source": []
  }
 ],
 "metadata": {
  "kernelspec": {
   "display_name": "Python 3 (ipykernel)",
   "language": "python",
   "name": "python3"
  },
  "language_info": {
   "codemirror_mode": {
    "name": "ipython",
    "version": 3
   },
   "file_extension": ".py",
   "mimetype": "text/x-python",
   "name": "python",
   "nbconvert_exporter": "python",
   "pygments_lexer": "ipython3",
   "version": "3.9.7"
  }
 },
 "nbformat": 4,
 "nbformat_minor": 5
}
